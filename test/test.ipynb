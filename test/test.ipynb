{
 "cells": [
  {
   "cell_type": "code",
   "execution_count": 2,
   "metadata": {},
   "outputs": [],
   "source": [
    "import pyaudio\n",
    "\n",
    "pa = pyaudio.PyAudio()\n",
    "for i in range(pa.get_device_count()):\n",
    "    info = pa.get_device_info_by_index(i)\n",
    "    if info.get('maxInputChannels', 0) > 0:\n",
    "        print(f\"Device {i}: {info.get('name')}, Channels: {info.get('maxInputChannels')}, Default SR: {info.get('defaultSampleRate')}\")\n",
    "pa.terminate()\n"
   ]
  },
  {
   "cell_type": "code",
   "execution_count": 4,
   "metadata": {},
   "outputs": [],
   "source": [
    "import wave\n",
    "import threading\n",
    "import time\n",
    "import subprocess\n",
    "import os"
   ]
  },
  {
   "cell_type": "code",
   "execution_count": 5,
   "metadata": {},
   "outputs": [],
   "source": [
    "class AudioRecorder():\n",
    "\n",
    "\n",
    "    # Audio class based on pyAudio and Wave\n",
    "    def __init__(self):\n",
    "\n",
    "        self.open = True\n",
    "        self.rate = 44100\n",
    "        self.frames_per_buffer = 1024\n",
    "        self.channels = 2\n",
    "        self.format = pyaudio.paInt16\n",
    "        self.audio_filename = \"temp_audio.wav\"\n",
    "        self.audio = pyaudio.PyAudio()\n",
    "        self.stream = self.audio.open(format=self.format,\n",
    "                                      channels=self.channels,\n",
    "                                      rate=self.rate,\n",
    "                                      input=True,\n",
    "                                      frames_per_buffer = self.frames_per_buffer)\n",
    "        self.audio_frames = []\n",
    "\n",
    "\n",
    "    # Audio starts being recorded\n",
    "    def record(self):\n",
    "\n",
    "        self.stream.start_stream()\n",
    "        while(self.open == True):\n",
    "            data = self.stream.read(self.frames_per_buffer) \n",
    "            self.audio_frames.append(data)\n",
    "            if self.open==False:\n",
    "                break\n",
    "\n",
    "\n",
    "    # Finishes the audio recording therefore the thread too    \n",
    "    def stop(self):\n",
    "\n",
    "        if self.open==True:\n",
    "            self.open = False\n",
    "            self.stream.stop_stream()\n",
    "            self.stream.close()\n",
    "            self.audio.terminate()\n",
    "\n",
    "            waveFile = wave.open(self.audio_filename, 'wb')\n",
    "            waveFile.setnchannels(self.channels)\n",
    "            waveFile.setsampwidth(self.audio.get_sample_size(self.format))\n",
    "            waveFile.setframerate(self.rate)\n",
    "            waveFile.writeframes(b''.join(self.audio_frames))\n",
    "            waveFile.close()\n",
    "\n",
    "        pass\n",
    "\n",
    "    # Launches the audio recording function using a thread\n",
    "    def start(self):\n",
    "        audio_thread = threading.Thread(target=self.record)\n",
    "        audio_thread.start()"
   ]
  },
  {
   "cell_type": "code",
   "execution_count": 6,
   "metadata": {},
   "outputs": [
    {
     "ename": "OSError",
     "evalue": "[Errno -9996] Invalid input device (no default output device)",
     "output_type": "error",
     "traceback": [
      "\u001b[31m---------------------------------------------------------------------------\u001b[39m",
      "\u001b[31mOSError\u001b[39m                                   Traceback (most recent call last)",
      "\u001b[36mCell\u001b[39m\u001b[36m \u001b[39m\u001b[32mIn[6]\u001b[39m\u001b[32m, line 1\u001b[39m\n\u001b[32m----> \u001b[39m\u001b[32m1\u001b[39m au = \u001b[43mAudioRecorder\u001b[49m\u001b[43m(\u001b[49m\u001b[43m)\u001b[49m\n\u001b[32m      2\u001b[39m au.record()\n",
      "\u001b[36mCell\u001b[39m\u001b[36m \u001b[39m\u001b[32mIn[5]\u001b[39m\u001b[32m, line 14\u001b[39m, in \u001b[36mAudioRecorder.__init__\u001b[39m\u001b[34m(self)\u001b[39m\n\u001b[32m     12\u001b[39m \u001b[38;5;28mself\u001b[39m.audio_filename = \u001b[33m\"\u001b[39m\u001b[33mtemp_audio.wav\u001b[39m\u001b[33m\"\u001b[39m\n\u001b[32m     13\u001b[39m \u001b[38;5;28mself\u001b[39m.audio = pyaudio.PyAudio()\n\u001b[32m---> \u001b[39m\u001b[32m14\u001b[39m \u001b[38;5;28mself\u001b[39m.stream = \u001b[38;5;28;43mself\u001b[39;49m\u001b[43m.\u001b[49m\u001b[43maudio\u001b[49m\u001b[43m.\u001b[49m\u001b[43mopen\u001b[49m\u001b[43m(\u001b[49m\u001b[38;5;28;43mformat\u001b[39;49m\u001b[43m=\u001b[49m\u001b[38;5;28;43mself\u001b[39;49m\u001b[43m.\u001b[49m\u001b[43mformat\u001b[49m\u001b[43m,\u001b[49m\n\u001b[32m     15\u001b[39m \u001b[43m                              \u001b[49m\u001b[43mchannels\u001b[49m\u001b[43m=\u001b[49m\u001b[38;5;28;43mself\u001b[39;49m\u001b[43m.\u001b[49m\u001b[43mchannels\u001b[49m\u001b[43m,\u001b[49m\n\u001b[32m     16\u001b[39m \u001b[43m                              \u001b[49m\u001b[43mrate\u001b[49m\u001b[43m=\u001b[49m\u001b[38;5;28;43mself\u001b[39;49m\u001b[43m.\u001b[49m\u001b[43mrate\u001b[49m\u001b[43m,\u001b[49m\n\u001b[32m     17\u001b[39m \u001b[43m                              \u001b[49m\u001b[38;5;28;43minput\u001b[39;49m\u001b[43m=\u001b[49m\u001b[38;5;28;43;01mTrue\u001b[39;49;00m\u001b[43m,\u001b[49m\n\u001b[32m     18\u001b[39m \u001b[43m                              \u001b[49m\u001b[43mframes_per_buffer\u001b[49m\u001b[43m \u001b[49m\u001b[43m=\u001b[49m\u001b[43m \u001b[49m\u001b[38;5;28;43mself\u001b[39;49m\u001b[43m.\u001b[49m\u001b[43mframes_per_buffer\u001b[49m\u001b[43m)\u001b[49m\n\u001b[32m     19\u001b[39m \u001b[38;5;28mself\u001b[39m.audio_frames = []\n",
      "\u001b[36mFile \u001b[39m\u001b[32m~/miniconda3/envs/audio/lib/python3.11/site-packages/pyaudio.py:750\u001b[39m, in \u001b[36mPyAudio.open\u001b[39m\u001b[34m(self, *args, **kwargs)\u001b[39m\n\u001b[32m    742\u001b[39m \u001b[38;5;28;01mdef\u001b[39;00m\u001b[38;5;250m \u001b[39m\u001b[34mopen\u001b[39m(\u001b[38;5;28mself\u001b[39m, *args, **kwargs):\n\u001b[32m    743\u001b[39m \u001b[38;5;250m    \u001b[39m\u001b[33;03m\"\"\"\u001b[39;00m\n\u001b[32m    744\u001b[39m \u001b[33;03m    Open a new stream. See constructor for\u001b[39;00m\n\u001b[32m    745\u001b[39m \u001b[33;03m    :py:func:`Stream.__init__` for parameter details.\u001b[39;00m\n\u001b[32m    746\u001b[39m \n\u001b[32m    747\u001b[39m \u001b[33;03m    :returns: A new :py:class:`Stream`\u001b[39;00m\n\u001b[32m    748\u001b[39m \u001b[33;03m    \"\"\"\u001b[39;00m\n\u001b[32m--> \u001b[39m\u001b[32m750\u001b[39m     stream = \u001b[43mStream\u001b[49m\u001b[43m(\u001b[49m\u001b[38;5;28;43mself\u001b[39;49m\u001b[43m,\u001b[49m\u001b[43m \u001b[49m\u001b[43m*\u001b[49m\u001b[43margs\u001b[49m\u001b[43m,\u001b[49m\u001b[43m \u001b[49m\u001b[43m*\u001b[49m\u001b[43m*\u001b[49m\u001b[43mkwargs\u001b[49m\u001b[43m)\u001b[49m\n\u001b[32m    751\u001b[39m     \u001b[38;5;28mself\u001b[39m._streams.add(stream)\n\u001b[32m    752\u001b[39m     \u001b[38;5;28;01mreturn\u001b[39;00m stream\n",
      "\u001b[36mFile \u001b[39m\u001b[32m~/miniconda3/envs/audio/lib/python3.11/site-packages/pyaudio.py:441\u001b[39m, in \u001b[36mStream.__init__\u001b[39m\u001b[34m(self, PA_manager, rate, channels, format, input, output, input_device_index, output_device_index, frames_per_buffer, start, input_host_api_specific_stream_info, output_host_api_specific_stream_info, stream_callback)\u001b[39m\n\u001b[32m    438\u001b[39m     arguments[\u001b[33m'\u001b[39m\u001b[33mstream_callback\u001b[39m\u001b[33m'\u001b[39m] = stream_callback\n\u001b[32m    440\u001b[39m \u001b[38;5;66;03m# calling pa.open returns a stream object\u001b[39;00m\n\u001b[32m--> \u001b[39m\u001b[32m441\u001b[39m \u001b[38;5;28mself\u001b[39m._stream = \u001b[43mpa\u001b[49m\u001b[43m.\u001b[49m\u001b[43mopen\u001b[49m\u001b[43m(\u001b[49m\u001b[43m*\u001b[49m\u001b[43m*\u001b[49m\u001b[43marguments\u001b[49m\u001b[43m)\u001b[49m\n\u001b[32m    443\u001b[39m \u001b[38;5;28mself\u001b[39m._input_latency = \u001b[38;5;28mself\u001b[39m._stream.inputLatency\n\u001b[32m    444\u001b[39m \u001b[38;5;28mself\u001b[39m._output_latency = \u001b[38;5;28mself\u001b[39m._stream.outputLatency\n",
      "\u001b[31mOSError\u001b[39m: [Errno -9996] Invalid input device (no default output device)"
     ]
    }
   ],
   "source": [
    "au = AudioRecorder()\n",
    "au.record()"
   ]
  },
  {
   "cell_type": "code",
   "execution_count": 3,
   "metadata": {},
   "outputs": [],
   "source": [
    "import sounddevice as sd\n",
    "import numpy as np\n",
    "\n",
    "def play_audio_sounddevice():\n",
    "    # Read audio data from a file or a queue,\n",
    "    # then play using sd.play()\n",
    "    audio_data = np.frombuffer(your_audio_bytes, dtype=np.int16)\n",
    "    sd.play(audio_data, RATE)\n",
    "    sd.wait()\n",
    "\n",
    "# Instead of using the PyAudio stream, call play_audio_sounddevice()\n"
   ]
  },
  {
   "cell_type": "code",
   "execution_count": null,
   "metadata": {},
   "outputs": [],
   "source": []
  }
 ],
 "metadata": {
  "kernelspec": {
   "display_name": "audio",
   "language": "python",
   "name": "python3"
  },
  "language_info": {
   "codemirror_mode": {
    "name": "ipython",
    "version": 3
   },
   "file_extension": ".py",
   "mimetype": "text/x-python",
   "name": "python",
   "nbconvert_exporter": "python",
   "pygments_lexer": "ipython3",
   "version": "3.11.11"
  }
 },
 "nbformat": 4,
 "nbformat_minor": 2
}
